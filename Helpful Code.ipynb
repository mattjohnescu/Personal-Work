{
 "cells": [
  {
   "cell_type": "markdown",
   "metadata": {},
   "source": [
    "### Useful Functions Notebook"
   ]
  },
  {
   "cell_type": "code",
   "execution_count": null,
   "metadata": {},
   "outputs": [],
   "source": [
    "# Function to check basic data statistics, null values, and unique values\n",
    "def checking(df):\n",
    "    total = len(df)\n",
    "    null_df = pd.DataFrame(df.isnull().sum(), columns=['#NULLS'])\n",
    "    null_df['%NULLS'] = round((null_df['#NULLS'] / total) * 100, 5)\n",
    "    null_df['#Unique_Values'] = df.nunique()\n",
    "    \n",
    "    cat_cols = [col for col in df.columns if df[col].dtype == 'object']\n",
    "    uniques = []\n",
    "    for col in df.columns:\n",
    "        if col in cat_cols:\n",
    "            uniques.append(set(df[col].dropna()))\n",
    "        else:\n",
    "            uniques.append(df[col].max() - df[col].min())\n",
    "    null_df['Unique_Values'] = uniques\n",
    "    return null_df\n",
    "\n",
    "# Example Checking the train and test datasets\n",
    "print(\"Train Data Overview\")\n",
    "print(checking(train_data))\n",
    "\n",
    "print(\"\\nTest Data Overview\")\n",
    "print(checking(test_data))"
   ]
  }
 ],
 "metadata": {
  "language_info": {
   "name": "python"
  }
 },
 "nbformat": 4,
 "nbformat_minor": 2
}
