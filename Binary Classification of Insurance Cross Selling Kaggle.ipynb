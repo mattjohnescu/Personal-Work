{
 "cells": [
  {
   "cell_type": "code",
   "execution_count": 1,
   "metadata": {},
   "outputs": [],
   "source": [
    "import pandas as pd\n",
    "from sklearn.model_selection import train_test_split, RandomizedSearchCV\n",
    "from sklearn.preprocessing import StandardScaler, OneHotEncoder\n",
    "from sklearn.compose import ColumnTransformer\n",
    "from sklearn.pipeline import Pipeline\n",
    "from sklearn.impute import SimpleImputer\n",
    "import xgboost as xgb\n",
    "from sklearn.metrics import roc_auc_score, classification_report, confusion_matrix\n",
    "import matplotlib.pyplot as plt\n",
    "import seaborn as sns\n",
    "from scipy.stats import uniform, randint"
   ]
  },
  {
   "cell_type": "markdown",
   "metadata": {},
   "source": [
    "### Loading data"
   ]
  },
  {
   "cell_type": "code",
   "execution_count": 2,
   "metadata": {},
   "outputs": [
    {
     "name": "stdout",
     "output_type": "stream",
     "text": [
      "   id  Gender  Age  Driving_License  Region_Code  Previously_Insured  \\\n",
      "0   0    Male   21                1         35.0                   0   \n",
      "1   1    Male   43                1         28.0                   0   \n",
      "2   2  Female   25                1         14.0                   1   \n",
      "3   3  Female   35                1          1.0                   0   \n",
      "4   4  Female   36                1         15.0                   1   \n",
      "\n",
      "  Vehicle_Age Vehicle_Damage  Annual_Premium  Policy_Sales_Channel  Vintage  \\\n",
      "0    1-2 Year            Yes         65101.0                 124.0      187   \n",
      "1   > 2 Years            Yes         58911.0                  26.0      288   \n",
      "2    < 1 Year             No         38043.0                 152.0      254   \n",
      "3    1-2 Year            Yes          2630.0                 156.0       76   \n",
      "4    1-2 Year             No         31951.0                 152.0      294   \n",
      "\n",
      "   Response  \n",
      "0         0  \n",
      "1         1  \n",
      "2         0  \n",
      "3         0  \n",
      "4         0  \n",
      "         id  Gender  Age  Driving_License  Region_Code  Previously_Insured  \\\n",
      "0  11504798  Female   20                1         47.0                   0   \n",
      "1  11504799    Male   47                1         28.0                   0   \n",
      "2  11504800    Male   47                1         43.0                   0   \n",
      "3  11504801  Female   22                1         47.0                   1   \n",
      "4  11504802    Male   51                1         19.0                   0   \n",
      "\n",
      "  Vehicle_Age Vehicle_Damage  Annual_Premium  Policy_Sales_Channel  Vintage  \n",
      "0    < 1 Year             No          2630.0                 160.0      228  \n",
      "1    1-2 Year            Yes         37483.0                 124.0      123  \n",
      "2    1-2 Year            Yes          2630.0                  26.0      271  \n",
      "3    < 1 Year             No         24502.0                 152.0      115  \n",
      "4    1-2 Year             No         34115.0                 124.0      148  \n"
     ]
    }
   ],
   "source": [
    "train_data = pd.read_csv(\"C:/Users/johne/Downloads/playground-series-s4e7/train.csv\")\n",
    "test_data = pd.read_csv(\"C:/Users/johne/Downloads/playground-series-s4e7/test.csv\")\n",
    "\n",
    "# Display the first few rows of each dataframe\n",
    "print(train_data.head())\n",
    "print(test_data.head())"
   ]
  },
  {
   "cell_type": "code",
   "execution_count": 7,
   "metadata": {},
   "outputs": [
    {
     "name": "stdout",
     "output_type": "stream",
     "text": [
      "Fitting 3 folds for each of 10 candidates, totalling 30 fits\n"
     ]
    },
    {
     "name": "stderr",
     "output_type": "stream",
     "text": [
      "c:\\Users\\johne\\AppData\\Local\\Programs\\Python\\Python312\\Lib\\site-packages\\xgboost\\core.py:158: UserWarning: [21:15:03] WARNING: C:\\buildkite-agent\\builds\\buildkite-windows-cpu-autoscaling-group-i-06abd128ca6c1688d-1\\xgboost\\xgboost-ci-windows\\src\\learner.cc:740: \n",
      "Parameters: { \"use_label_encoder\" } are not used.\n",
      "\n",
      "  warnings.warn(smsg, UserWarning)\n"
     ]
    },
    {
     "name": "stdout",
     "output_type": "stream",
     "text": [
      "Best parameters: {'learning_rate': 0.1323306320976562, 'max_depth': 7, 'n_estimators': 138, 'subsample': 0.7873687420594125}\n",
      "Best cross-validation ROC AUC: 0.8756945223640852\n"
     ]
    },
    {
     "name": "stderr",
     "output_type": "stream",
     "text": [
      "c:\\Users\\johne\\AppData\\Local\\Programs\\Python\\Python312\\Lib\\site-packages\\xgboost\\core.py:158: UserWarning: [21:15:21] WARNING: C:\\buildkite-agent\\builds\\buildkite-windows-cpu-autoscaling-group-i-06abd128ca6c1688d-1\\xgboost\\xgboost-ci-windows\\src\\learner.cc:740: \n",
      "Parameters: { \"use_label_encoder\" } are not used.\n",
      "\n",
      "  warnings.warn(smsg, UserWarning)\n"
     ]
    }
   ],
   "source": [
    "\n",
    "\n",
    "# Split features and target\n",
    "X = train_data.drop(['Response', 'id'], axis=1)\n",
    "y = train_data['Response']\n",
    "test_ids = test_data['id']\n",
    "X_test = test_data.drop(['id'], axis=1)\n",
    "\n",
    "# Identify numerical and categorical columns\n",
    "num_cols = X.select_dtypes(include=['int64', 'float64']).columns\n",
    "cat_cols = X.select_dtypes(include='object').columns\n",
    "\n",
    "# Feature Engineering: Create interaction terms or modify existing features\n",
    "X['Age_Vintage_Interaction'] = X['Age'] * X['Vintage']\n",
    "X_test['Age_Vintage_Interaction'] = X_test['Age'] * X_test['Vintage']\n",
    "\n",
    "# Preprocessing pipelines for numeric and categorical data\n",
    "numeric_transformer = Pipeline(steps=[\n",
    "    ('imputer', SimpleImputer(strategy='mean')),\n",
    "    ('scaler', StandardScaler())\n",
    "])\n",
    "\n",
    "categorical_transformer = Pipeline(steps=[\n",
    "    ('imputer', SimpleImputer(strategy='constant', fill_value='missing')),\n",
    "    ('onehot', OneHotEncoder(handle_unknown='ignore'))\n",
    "])\n",
    "\n",
    "# Combine preprocessing steps\n",
    "preprocessor = ColumnTransformer(\n",
    "    transformers=[\n",
    "        ('num', numeric_transformer, num_cols),\n",
    "        ('cat', categorical_transformer, cat_cols)\n",
    "    ])\n",
    "\n",
    "# Fit the preprocessor and transform the data\n",
    "X_transformed = preprocessor.fit_transform(X)\n",
    "X_test_transformed = preprocessor.transform(X_test)\n",
    "\n",
    "# Sample a subset of the data for hyperparameter tuning\n",
    "X_sample, _, y_sample, _ = train_test_split(X_transformed, y, train_size=0.1, stratify=y, random_state=42)\n",
    "\n",
    "# Define the model\n",
    "model = xgb.XGBClassifier(use_label_encoder=False, eval_metric='logloss', random_state=42, n_jobs=-1)\n",
    "\n",
    "# Hyperparameter Tuning with RandomizedSearchCV\n",
    "param_dist = {\n",
    "    'n_estimators': randint(50, 200),\n",
    "    'max_depth': randint(3, 10),\n",
    "    'learning_rate': uniform(0.01, 0.2),\n",
    "    'subsample': uniform(0.7, 0.3)\n",
    "}\n",
    "\n",
    "random_search = RandomizedSearchCV(model, param_dist, n_iter=10, cv=3, scoring='roc_auc', n_jobs=-1, verbose=2, random_state=42)\n",
    "random_search.fit(X_sample, y_sample)\n",
    "print(f'Best parameters: {random_search.best_params_}')\n",
    "print(f'Best cross-validation ROC AUC: {random_search.best_score_}')\n",
    "\n",
    "# Train the final model with best parameters\n",
    "best_model = random_search.best_estimator_\n",
    "best_model.fit(X_transformed, y)\n",
    "\n",
    "# Predict on validation set and evaluate\n",
    "X_train, X_valid, y_train, y_valid = train_test_split(X_transformed, y, test_size=0.2, random_state=42, stratify=y)\n",
    "y_valid_pred = best_model.predict_proba(X_valid)[:, 1]\n",
    "roc_auc = roc_auc_score(y_valid, y_valid_pred)\n",
    "print(f'Validation ROC AUC: {roc_auc}')\n",
    "\n",
    "# Error Analysis\n",
    "y_valid_pred_labels = best_model.predict(X_valid)\n",
    "print(classification_report(y_valid, y_valid_pred_labels))\n",
    "conf_matrix = confusion_matrix(y_valid, y_valid_pred_labels)\n",
    "\n",
    "# Plot Confusion Matrix\n",
    "plt.figure(figsize=(8, 6))\n",
    "sns.heatmap(conf_matrix, annot=True, fmt='d', cmap='Blues', xticklabels=['No Response', 'Response'], yticklabels=['No Response', 'Response'])\n",
    "plt.title('Confusion Matrix')\n",
    "plt.xlabel('Predicted')\n",
    "plt.ylabel('Actual')\n",
    "plt.show()\n",
    "\n",
    "# Predict on the test set\n",
    "test_predictions = best_model.predict_proba(X_test_transformed)[:, 1]\n",
    "\n",
    "# Prepare the submission file\n",
    "submission = pd.DataFrame({'id': test_ids, 'Response': test_predictions})\n",
    "submission_path = \"C:/Users/johne/Downloads/submission.csv\"\n",
    "submission.to_csv(submission_path, index=False)\n",
    "print(f'Submission file created successfully at {submission_path}')"
   ]
  }
 ],
 "metadata": {
  "kernelspec": {
   "display_name": "Python 3",
   "language": "python",
   "name": "python3"
  },
  "language_info": {
   "codemirror_mode": {
    "name": "ipython",
    "version": 3
   },
   "file_extension": ".py",
   "mimetype": "text/x-python",
   "name": "python",
   "nbconvert_exporter": "python",
   "pygments_lexer": "ipython3",
   "version": "3.12.0"
  }
 },
 "nbformat": 4,
 "nbformat_minor": 2
}
